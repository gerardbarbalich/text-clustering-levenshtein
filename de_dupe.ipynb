{
 "cells": [
  {
   "cell_type": "code",
   "execution_count": 1,
   "metadata": {},
   "outputs": [],
   "source": [
    "import numpy as np\n",
    "import pandas as pd\n",
    "import sys\n"
   ]
  },
  {
   "cell_type": "code",
   "execution_count": 38,
   "metadata": {},
   "outputs": [],
   "source": [
    "dfImport = pd.read_csv(\"data/national_names.csv\")\n"
   ]
  },
  {
   "cell_type": "code",
   "execution_count": 39,
   "metadata": {},
   "outputs": [],
   "source": [
    "df = dfImport\n",
    "df = df.sort_values(['Name'])\n"
   ]
  },
  {
   "cell_type": "code",
   "execution_count": 40,
   "metadata": {},
   "outputs": [],
   "source": [
    "df = df.loc[df[\"Year\"] == 2012].reset_index()\n",
    "df = df.iloc[0:300]\n"
   ]
  },
  {
   "cell_type": "code",
   "execution_count": 41,
   "metadata": {},
   "outputs": [
    {
     "data": {
      "text/plain": [
       "300"
      ]
     },
     "execution_count": 41,
     "metadata": {},
     "output_type": "execute_result"
    }
   ],
   "source": [
    "ls_Components = df[\"Name\"].tolist()\n",
    "len(ls_Components)"
   ]
  },
  {
   "cell_type": "code",
   "execution_count": 55,
   "metadata": {},
   "outputs": [],
   "source": [
    "DISTANCE_LENGTH = 2\n",
    "\n",
    "def levenshtein(seq1, seq2):\n",
    "    size_x = len(seq1) + 1\n",
    "    size_y = len(seq2) + 1\n",
    "    matrix = np.zeros ((size_x, size_y))\n",
    "    for x in range(size_x):\n",
    "        matrix [x, 0] = x\n",
    "    for y in range(size_y):\n",
    "        matrix [0, y] = y\n",
    "\n",
    "    for x in range(1, size_x):\n",
    "        for y in range(1, size_y):\n",
    "            if seq1[x-1] == seq2[y-1]:\n",
    "                matrix [x,y] = min(\n",
    "                    matrix[x-1, y] + 1,\n",
    "                    matrix[x-1, y-1],\n",
    "                    matrix[x, y-1] + 1\n",
    "                )\n",
    "            else:\n",
    "                matrix [x,y] = min(\n",
    "                    matrix[x-1,y] + 1,\n",
    "                    matrix[x-1,y-1] + 1,\n",
    "                    matrix[x,y-1] + 1\n",
    "                )\n",
    "    return (matrix[size_x - 1, size_y - 1])\n",
    "\n",
    "def form_groups(data):\n",
    "\n",
    "    grs = list() \n",
    "    for name in data:\n",
    "        for g in grs:\n",
    "            if all(levenshtein(name, w) < DISTANCE_LENGTH for w in g):\n",
    "                g.append(name)\n",
    "                break\n",
    "        else:\n",
    "            grs.append([name, ])\n",
    "\n",
    "    print('output groups:', len(grs))\n",
    "    return list(grs)\n",
    "\n",
    "def allocate_groups(grs, data):\n",
    "    return_list = list()\n",
    "    for checkagainst in data:\n",
    "        for i in range(0, len(grs)):\n",
    "                if checkagainst in grs[i]:\n",
    "                    return_list.append(i)\n",
    "    return return_list"
   ]
  },
  {
   "cell_type": "code",
   "execution_count": 56,
   "metadata": {},
   "outputs": [
    {
     "name": "stdout",
     "output_type": "stream",
     "text": [
      "output groups: 176\n"
     ]
    }
   ],
   "source": [
    "grs = form_groups(ls_Components)\n",
    "allocated_groups = allocate_groups(grs, ls_Components)\n",
    "\n",
    "df[\"allocated_group\"] = allocated_groups"
   ]
  },
  {
   "cell_type": "code",
   "execution_count": 57,
   "metadata": {},
   "outputs": [
    {
     "data": {
      "text/html": [
       "<div>\n",
       "<style scoped>\n",
       "    .dataframe tbody tr th:only-of-type {\n",
       "        vertical-align: middle;\n",
       "    }\n",
       "\n",
       "    .dataframe tbody tr th {\n",
       "        vertical-align: top;\n",
       "    }\n",
       "\n",
       "    .dataframe thead th {\n",
       "        text-align: right;\n",
       "    }\n",
       "</style>\n",
       "<table border=\"1\" class=\"dataframe\">\n",
       "  <thead>\n",
       "    <tr style=\"text-align: right;\">\n",
       "      <th></th>\n",
       "      <th>index</th>\n",
       "      <th>Id</th>\n",
       "      <th>Name</th>\n",
       "      <th>Year</th>\n",
       "      <th>Gender</th>\n",
       "      <th>Count</th>\n",
       "      <th>allocated_group</th>\n",
       "    </tr>\n",
       "  </thead>\n",
       "  <tbody>\n",
       "    <tr>\n",
       "      <th>14</th>\n",
       "      <td>1752002</td>\n",
       "      <td>1752003</td>\n",
       "      <td>Aadish</td>\n",
       "      <td>2012</td>\n",
       "      <td>M</td>\n",
       "      <td>11</td>\n",
       "      <td>10</td>\n",
       "    </tr>\n",
       "    <tr>\n",
       "      <th>17</th>\n",
       "      <td>1755705</td>\n",
       "      <td>1755706</td>\n",
       "      <td>Aadith</td>\n",
       "      <td>2012</td>\n",
       "      <td>M</td>\n",
       "      <td>6</td>\n",
       "      <td>10</td>\n",
       "    </tr>\n",
       "  </tbody>\n",
       "</table>\n",
       "</div>"
      ],
      "text/plain": [
       "      index       Id    Name  Year Gender  Count  allocated_group\n",
       "14  1752002  1752003  Aadish  2012      M     11               10\n",
       "17  1755705  1755706  Aadith  2012      M      6               10"
      ]
     },
     "execution_count": 57,
     "metadata": {},
     "output_type": "execute_result"
    }
   ],
   "source": [
    "df.loc[df[\"allocated_group\"] == 10]"
   ]
  },
  {
   "cell_type": "code",
   "execution_count": 60,
   "metadata": {},
   "outputs": [],
   "source": [
    "#allocated_groups"
   ]
  },
  {
   "cell_type": "code",
   "execution_count": 59,
   "metadata": {},
   "outputs": [
    {
     "data": {
      "text/html": [
       "<div>\n",
       "<style scoped>\n",
       "    .dataframe tbody tr th:only-of-type {\n",
       "        vertical-align: middle;\n",
       "    }\n",
       "\n",
       "    .dataframe tbody tr th {\n",
       "        vertical-align: top;\n",
       "    }\n",
       "\n",
       "    .dataframe thead th {\n",
       "        text-align: right;\n",
       "    }\n",
       "</style>\n",
       "<table border=\"1\" class=\"dataframe\">\n",
       "  <thead>\n",
       "    <tr style=\"text-align: right;\">\n",
       "      <th></th>\n",
       "      <th>index</th>\n",
       "      <th>Id</th>\n",
       "      <th>Name</th>\n",
       "      <th>Year</th>\n",
       "      <th>Gender</th>\n",
       "      <th>Count</th>\n",
       "      <th>allocated_group</th>\n",
       "    </tr>\n",
       "  </thead>\n",
       "  <tbody>\n",
       "    <tr>\n",
       "      <th>0</th>\n",
       "      <td>1751999</td>\n",
       "      <td>1752000</td>\n",
       "      <td>Aaban</td>\n",
       "      <td>2012</td>\n",
       "      <td>M</td>\n",
       "      <td>11</td>\n",
       "      <td>0</td>\n",
       "    </tr>\n",
       "    <tr>\n",
       "      <th>1</th>\n",
       "      <td>1742312</td>\n",
       "      <td>1742313</td>\n",
       "      <td>Aabha</td>\n",
       "      <td>2012</td>\n",
       "      <td>F</td>\n",
       "      <td>5</td>\n",
       "      <td>1</td>\n",
       "    </tr>\n",
       "    <tr>\n",
       "      <th>2</th>\n",
       "      <td>1752000</td>\n",
       "      <td>1752001</td>\n",
       "      <td>Aadam</td>\n",
       "      <td>2012</td>\n",
       "      <td>M</td>\n",
       "      <td>11</td>\n",
       "      <td>2</td>\n",
       "    </tr>\n",
       "    <tr>\n",
       "      <th>3</th>\n",
       "      <td>1752001</td>\n",
       "      <td>1752002</td>\n",
       "      <td>Aadan</td>\n",
       "      <td>2012</td>\n",
       "      <td>M</td>\n",
       "      <td>11</td>\n",
       "      <td>0</td>\n",
       "    </tr>\n",
       "    <tr>\n",
       "      <th>4</th>\n",
       "      <td>1751575</td>\n",
       "      <td>1751576</td>\n",
       "      <td>Aadarsh</td>\n",
       "      <td>2012</td>\n",
       "      <td>M</td>\n",
       "      <td>12</td>\n",
       "      <td>3</td>\n",
       "    </tr>\n",
       "    <tr>\n",
       "      <th>...</th>\n",
       "      <td>...</td>\n",
       "      <td>...</td>\n",
       "      <td>...</td>\n",
       "      <td>...</td>\n",
       "      <td>...</td>\n",
       "      <td>...</td>\n",
       "      <td>...</td>\n",
       "    </tr>\n",
       "    <tr>\n",
       "      <th>295</th>\n",
       "      <td>1735897</td>\n",
       "      <td>1735898</td>\n",
       "      <td>Aberdeen</td>\n",
       "      <td>2012</td>\n",
       "      <td>F</td>\n",
       "      <td>10</td>\n",
       "      <td>172</td>\n",
       "    </tr>\n",
       "    <tr>\n",
       "      <th>296</th>\n",
       "      <td>1737679</td>\n",
       "      <td>1737680</td>\n",
       "      <td>Abernathy</td>\n",
       "      <td>2012</td>\n",
       "      <td>F</td>\n",
       "      <td>8</td>\n",
       "      <td>173</td>\n",
       "    </tr>\n",
       "    <tr>\n",
       "      <th>297</th>\n",
       "      <td>1740437</td>\n",
       "      <td>1740438</td>\n",
       "      <td>Abha</td>\n",
       "      <td>2012</td>\n",
       "      <td>F</td>\n",
       "      <td>6</td>\n",
       "      <td>174</td>\n",
       "    </tr>\n",
       "    <tr>\n",
       "      <th>298</th>\n",
       "      <td>1747868</td>\n",
       "      <td>1747869</td>\n",
       "      <td>Abhay</td>\n",
       "      <td>2012</td>\n",
       "      <td>M</td>\n",
       "      <td>40</td>\n",
       "      <td>174</td>\n",
       "    </tr>\n",
       "    <tr>\n",
       "      <th>299</th>\n",
       "      <td>1750434</td>\n",
       "      <td>1750435</td>\n",
       "      <td>Abhi</td>\n",
       "      <td>2012</td>\n",
       "      <td>M</td>\n",
       "      <td>16</td>\n",
       "      <td>175</td>\n",
       "    </tr>\n",
       "  </tbody>\n",
       "</table>\n",
       "<p>300 rows × 7 columns</p>\n",
       "</div>"
      ],
      "text/plain": [
       "       index       Id       Name  Year Gender  Count  allocated_group\n",
       "0    1751999  1752000      Aaban  2012      M     11                0\n",
       "1    1742312  1742313      Aabha  2012      F      5                1\n",
       "2    1752000  1752001      Aadam  2012      M     11                2\n",
       "3    1752001  1752002      Aadan  2012      M     11                0\n",
       "4    1751575  1751576    Aadarsh  2012      M     12                3\n",
       "..       ...      ...        ...   ...    ...    ...              ...\n",
       "295  1735897  1735898   Aberdeen  2012      F     10              172\n",
       "296  1737679  1737680  Abernathy  2012      F      8              173\n",
       "297  1740437  1740438       Abha  2012      F      6              174\n",
       "298  1747868  1747869      Abhay  2012      M     40              174\n",
       "299  1750434  1750435       Abhi  2012      M     16              175\n",
       "\n",
       "[300 rows x 7 columns]"
      ]
     },
     "execution_count": 59,
     "metadata": {},
     "output_type": "execute_result"
    }
   ],
   "source": [
    "df"
   ]
  },
  {
   "cell_type": "code",
   "execution_count": null,
   "metadata": {},
   "outputs": [],
   "source": []
  }
 ],
 "metadata": {
  "kernelspec": {
   "display_name": "Python 3",
   "language": "python",
   "name": "python3"
  },
  "language_info": {
   "codemirror_mode": {
    "name": "ipython",
    "version": 3
   },
   "file_extension": ".py",
   "mimetype": "text/x-python",
   "name": "python",
   "nbconvert_exporter": "python",
   "pygments_lexer": "ipython3",
   "version": "3.6.5"
  }
 },
 "nbformat": 4,
 "nbformat_minor": 2
}
