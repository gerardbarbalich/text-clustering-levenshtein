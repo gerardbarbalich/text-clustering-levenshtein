{
 "cells": [
  {
   "cell_type": "code",
   "execution_count": 1,
   "metadata": {},
   "outputs": [],
   "source": [
    "import numpy as np\n",
    "import pandas as pd\n",
    "import sys\n",
    "\n",
    "df = pd.read_csv(\"data/national_names.csv\") # import our data\n",
    "df = df.sort_values(['Name']) # sort values to get similar names\n",
    "df = df.loc[df[\"Year\"] == 2012].reset_index() # filter by the year\n",
    "df = df.iloc[0:100] # select the first 100 values\n",
    "ls_Names = df[\"Name\"].tolist() # convert the column to a list\n"
   ]
  },
  {
   "cell_type": "code",
   "execution_count": 2,
   "metadata": {},
   "outputs": [],
   "source": [
    "DISTANCE_LENGTH = 2 # define the length to cluster upon\n",
    "\n",
    "def levenshtein(seq1, seq2):\n",
    "    size_x = len(seq1) + 1\n",
    "    size_y = len(seq2) + 1\n",
    "    matrix = np.zeros ((size_x, size_y))\n",
    "    for x in range(size_x):\n",
    "        matrix [x, 0] = x\n",
    "    for y in range(size_y):\n",
    "        matrix [0, y] = y\n",
    "\n",
    "    for x in range(1, size_x):\n",
    "        for y in range(1, size_y):\n",
    "            if seq1[x-1] == seq2[y-1]:\n",
    "                matrix [x,y] = min(\n",
    "                    matrix[x-1, y] + 1,\n",
    "                    matrix[x-1, y-1],\n",
    "                    matrix[x, y-1] + 1\n",
    "                )\n",
    "            else:\n",
    "                matrix [x,y] = min(\n",
    "                    matrix[x-1,y] + 1,\n",
    "                    matrix[x-1,y-1] + 1,\n",
    "                    matrix[x,y-1] + 1\n",
    "                )\n",
    "    return (matrix[size_x - 1, size_y - 1])\n",
    "\n",
    "def form_groups(data):\n",
    "    grs = list() \n",
    "    for name in data:\n",
    "        for g in grs:\n",
    "            if all(levenshtein(name, w) < DISTANCE_LENGTH for w in g):\n",
    "                g.append(name)\n",
    "                break\n",
    "        else:\n",
    "            grs.append([name, ])\n",
    "\n",
    "    print('output groups:', len(grs))\n",
    "    return list(grs)\n",
    "\n",
    "def allocate_groups(grs, data):\n",
    "    return_list = list()\n",
    "    for checkagainst in data:\n",
    "        for i in range(0, len(grs)):\n",
    "                if checkagainst in grs[i]:\n",
    "                    return_list.append(i)\n",
    "    return return_list\n"
   ]
  },
  {
   "cell_type": "code",
   "execution_count": 3,
   "metadata": {},
   "outputs": [
    {
     "name": "stdout",
     "output_type": "stream",
     "text": [
      "output groups: 57\n"
     ]
    }
   ],
   "source": [
    "grs = form_groups(ls_Names)\n",
    "allocated_groups = allocate_groups(grs, ls_Names)\n",
    "\n",
    "df[\"allocated_group\"] = allocated_groups\n"
   ]
  },
  {
   "cell_type": "code",
   "execution_count": 4,
   "metadata": {
    "scrolled": true
   },
   "outputs": [
    {
     "data": {
      "text/plain": [
       "[['Aaban', 'Aadan', 'Aahan', 'Aaran'],\n",
       " ['Aabha'],\n",
       " ['Aadam', 'Aagam'],\n",
       " ['Aadarsh', 'Aakarsh'],\n",
       " ['Aaden', 'Aadin', 'Aadon', 'Aadyn'],\n",
       " ['Aadhav'],\n",
       " ['Aadhavan'],\n",
       " ['Aadhira'],\n",
       " ['Aadhya', 'Aadya'],\n",
       " ['Aadi', 'Aadi', 'Aadil', 'Aadit', 'Aadiv']]"
      ]
     },
     "execution_count": 4,
     "metadata": {},
     "output_type": "execute_result"
    }
   ],
   "source": [
    "grs[0:10]\n"
   ]
  },
  {
   "cell_type": "code",
   "execution_count": 5,
   "metadata": {},
   "outputs": [
    {
     "data": {
      "text/html": [
       "<div>\n",
       "<style scoped>\n",
       "    .dataframe tbody tr th:only-of-type {\n",
       "        vertical-align: middle;\n",
       "    }\n",
       "\n",
       "    .dataframe tbody tr th {\n",
       "        vertical-align: top;\n",
       "    }\n",
       "\n",
       "    .dataframe thead th {\n",
       "        text-align: right;\n",
       "    }\n",
       "</style>\n",
       "<table border=\"1\" class=\"dataframe\">\n",
       "  <thead>\n",
       "    <tr style=\"text-align: right;\">\n",
       "      <th></th>\n",
       "      <th>index</th>\n",
       "      <th>Id</th>\n",
       "      <th>Name</th>\n",
       "      <th>Year</th>\n",
       "      <th>Gender</th>\n",
       "      <th>Count</th>\n",
       "      <th>allocated_group</th>\n",
       "    </tr>\n",
       "  </thead>\n",
       "  <tbody>\n",
       "    <tr>\n",
       "      <th>0</th>\n",
       "      <td>1751999</td>\n",
       "      <td>1752000</td>\n",
       "      <td>Aaban</td>\n",
       "      <td>2012</td>\n",
       "      <td>M</td>\n",
       "      <td>11</td>\n",
       "      <td>0</td>\n",
       "    </tr>\n",
       "    <tr>\n",
       "      <th>3</th>\n",
       "      <td>1752001</td>\n",
       "      <td>1752002</td>\n",
       "      <td>Aadan</td>\n",
       "      <td>2012</td>\n",
       "      <td>M</td>\n",
       "      <td>11</td>\n",
       "      <td>0</td>\n",
       "    </tr>\n",
       "    <tr>\n",
       "      <th>28</th>\n",
       "      <td>1749489</td>\n",
       "      <td>1749490</td>\n",
       "      <td>Aahan</td>\n",
       "      <td>2012</td>\n",
       "      <td>M</td>\n",
       "      <td>21</td>\n",
       "      <td>0</td>\n",
       "    </tr>\n",
       "    <tr>\n",
       "      <th>96</th>\n",
       "      <td>1752509</td>\n",
       "      <td>1752510</td>\n",
       "      <td>Aaran</td>\n",
       "      <td>2012</td>\n",
       "      <td>M</td>\n",
       "      <td>10</td>\n",
       "      <td>0</td>\n",
       "    </tr>\n",
       "  </tbody>\n",
       "</table>\n",
       "</div>"
      ],
      "text/plain": [
       "      index       Id   Name  Year Gender  Count  allocated_group\n",
       "0   1751999  1752000  Aaban  2012      M     11                0\n",
       "3   1752001  1752002  Aadan  2012      M     11                0\n",
       "28  1749489  1749490  Aahan  2012      M     21                0\n",
       "96  1752509  1752510  Aaran  2012      M     10                0"
      ]
     },
     "execution_count": 5,
     "metadata": {},
     "output_type": "execute_result"
    }
   ],
   "source": [
    "df.loc[df[\"allocated_group\"] == 0]\n"
   ]
  },
  {
   "cell_type": "code",
   "execution_count": null,
   "metadata": {},
   "outputs": [],
   "source": []
  }
 ],
 "metadata": {
  "kernelspec": {
   "display_name": "Python 3",
   "language": "python",
   "name": "python3"
  },
  "language_info": {
   "codemirror_mode": {
    "name": "ipython",
    "version": 3
   },
   "file_extension": ".py",
   "mimetype": "text/x-python",
   "name": "python",
   "nbconvert_exporter": "python",
   "pygments_lexer": "ipython3",
   "version": "3.6.5"
  }
 },
 "nbformat": 4,
 "nbformat_minor": 2
}
